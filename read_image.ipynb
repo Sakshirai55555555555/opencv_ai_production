{
 "cells": [
  {
   "cell_type": "code",
   "execution_count": 2,
   "metadata": {},
   "outputs": [],
   "source": [
    "import cv2"
   ]
  },
  {
   "cell_type": "markdown",
   "metadata": {},
   "source": [
    "cv2.IMREAD_COLOR or 1: reads the image with RGB colors\n",
    "\n",
    "cv2.IMREAD_GRAYSCALE or 0: reads the image with gray colors\n",
    "\n",
    "cv2.IMREAD_UNCHANGED or -1: It reads the image as is from the source. If the source image is an RGB, it loads the image into an array with Red, Green, and Blue channels. If the source image is ARGB, it loads the image with three color components along with the alpha or transparency channel."
   ]
  },
  {
   "cell_type": "code",
   "execution_count": 3,
   "metadata": {},
   "outputs": [],
   "source": [
    "path=r\"C:\\Users\\Pramod Rai\\Desktop\\cv\\images\\pexels-simon-robben-614810.jpg\""
   ]
  },
  {
   "cell_type": "code",
   "execution_count": 4,
   "metadata": {},
   "outputs": [],
   "source": [
    "img = cv2.imread(path, 1) #read image in RGB format"
   ]
  },
  {
   "cell_type": "code",
   "execution_count": 5,
   "metadata": {},
   "outputs": [
    {
     "name": "stdout",
     "output_type": "stream",
     "text": [
      "(4000, 4684, 3)\n"
     ]
    }
   ],
   "source": [
    "print(img.shape)#print shape of image"
   ]
  },
  {
   "cell_type": "code",
   "execution_count": 6,
   "metadata": {},
   "outputs": [
    {
     "name": "stdout",
     "output_type": "stream",
     "text": [
      "[[[79 71 58]\n",
      "  [80 72 59]\n",
      "  [80 72 59]\n",
      "  ...\n",
      "  [78 71 62]\n",
      "  [78 71 62]\n",
      "  [78 71 62]]\n",
      "\n",
      " [[80 72 59]\n",
      "  [80 72 59]\n",
      "  [80 72 59]\n",
      "  ...\n",
      "  [79 72 63]\n",
      "  [79 72 63]\n",
      "  [79 72 63]]\n",
      "\n",
      " [[80 72 59]\n",
      "  [80 72 59]\n",
      "  [81 73 60]\n",
      "  ...\n",
      "  [79 72 63]\n",
      "  [79 72 63]\n",
      "  [79 72 63]]\n",
      "\n",
      " ...\n",
      "\n",
      " [[45 40 49]\n",
      "  [45 40 49]\n",
      "  [45 40 49]\n",
      "  ...\n",
      "  [51 44 41]\n",
      "  [51 44 41]\n",
      "  [51 44 41]]\n",
      "\n",
      " [[45 40 49]\n",
      "  [45 40 49]\n",
      "  [45 40 49]\n",
      "  ...\n",
      "  [51 44 41]\n",
      "  [51 44 41]\n",
      "  [51 44 41]]\n",
      "\n",
      " [[45 40 49]\n",
      "  [45 40 49]\n",
      "  [45 40 49]\n",
      "  ...\n",
      "  [51 44 41]\n",
      "  [51 44 41]\n",
      "  [51 44 41]]]\n"
     ]
    }
   ],
   "source": [
    "print(img) #print image array"
   ]
  },
  {
   "cell_type": "markdown",
   "metadata": {},
   "source": [
    "colour photo"
   ]
  },
  {
   "cell_type": "code",
   "execution_count": 10,
   "metadata": {},
   "outputs": [],
   "source": [
    "img2=cv2.resize(img,(600,400))\n",
    "cv2.imshow('image', img2)\n",
    "cv2.waitKey(0)\n",
    "cv2.destroyAllWindows() "
   ]
  },
  {
   "cell_type": "markdown",
   "metadata": {},
   "source": [
    "black and white photo"
   ]
  },
  {
   "cell_type": "code",
   "execution_count": 11,
   "metadata": {},
   "outputs": [],
   "source": [
    "img_bw = cv2.imread(path, 0)"
   ]
  },
  {
   "cell_type": "code",
   "execution_count": 12,
   "metadata": {},
   "outputs": [],
   "source": [
    "img3=cv2.resize(img_bw,(600,400))\n",
    "cv2.imshow('image', img3)\n",
    "cv2.waitKey(0)\n",
    "cv2.destroyAllWindows() "
   ]
  },
  {
   "cell_type": "markdown",
   "metadata": {},
   "source": [
    "Read Image in Alpha or Transference Format"
   ]
  },
  {
   "cell_type": "code",
   "execution_count": 13,
   "metadata": {},
   "outputs": [],
   "source": [
    "img_alpha = cv2.imread(path, -1)"
   ]
  },
  {
   "cell_type": "code",
   "execution_count": 14,
   "metadata": {},
   "outputs": [],
   "source": [
    "cv2.imshow('image', img3)\n",
    "cv2.waitKey(0)\n",
    "cv2.destroyAllWindows() "
   ]
  },
  {
   "cell_type": "code",
   "execution_count": null,
   "metadata": {},
   "outputs": [],
   "source": []
  }
 ],
 "metadata": {
  "kernelspec": {
   "display_name": "Python 3",
   "language": "python",
   "name": "python3"
  },
  "language_info": {
   "codemirror_mode": {
    "name": "ipython",
    "version": 3
   },
   "file_extension": ".py",
   "mimetype": "text/x-python",
   "name": "python",
   "nbconvert_exporter": "python",
   "pygments_lexer": "ipython3",
   "version": "3.12.0"
  }
 },
 "nbformat": 4,
 "nbformat_minor": 2
}
