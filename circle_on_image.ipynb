{
 "cells": [
  {
   "cell_type": "code",
   "execution_count": 33,
   "metadata": {},
   "outputs": [],
   "source": [
    "import cv2\n",
    "import numpy as np"
   ]
  },
  {
   "cell_type": "code",
   "execution_count": 34,
   "metadata": {},
   "outputs": [],
   "source": [
    "img_path=r'C:\\Users\\Pramod Rai\\Desktop\\opencv_ai_production\\opencv_ai_production\\images\\pexels-bess-hamiti-35537.jpg'"
   ]
  },
  {
   "cell_type": "code",
   "execution_count": 35,
   "metadata": {},
   "outputs": [],
   "source": [
    "image = cv2.imread(img_path)\n",
    "img_resize = cv2.resize(image, (1280,720))"
   ]
  },
  {
   "cell_type": "code",
   "execution_count": 36,
   "metadata": {},
   "outputs": [],
   "source": [
    "center = (780, 250)\n",
    "radius = 150 \n",
    "color = (23,220, 75)\n",
    "thickness = 3\n",
    "lineType = cv2.LINE_8\n",
    "shift = 0\n",
    "\n",
    "img_circle=cv2.circle(img_resize, center, radius, color, thickness, lineType, shift)"
   ]
  },
  {
   "cell_type": "code",
   "execution_count": 37,
   "metadata": {},
   "outputs": [],
   "source": [
    "cv2.imshow(\"Model Image\", img_circle)\n",
    "cv2.waitKey(0)\n",
    "cv2.destroyAllWindows()"
   ]
  },
  {
   "cell_type": "markdown",
   "metadata": {},
   "source": [
    " the shift tells the computer how many decimal places you're using. For example, if you're using one decimal place (like 1.5), the shift would be 1 because you're dealing with one digit after the decimal point.\n",
    "\n",
    "So, the shift helps the computer understand how detailed or precise your circle's position is by letting it know about the parts of numbers you're using, like fractions or decimals."
   ]
  },
  {
   "cell_type": "markdown",
   "metadata": {},
   "source": [
    "Fill Circle on Image"
   ]
  },
  {
   "cell_type": "code",
   "execution_count": 38,
   "metadata": {},
   "outputs": [],
   "source": [
    "img_path=r'C:\\Users\\Pramod Rai\\Desktop\\opencv_ai_production\\opencv_ai_production\\images\\pexels-bess-hamiti-35537.jpg'\n",
    " \n",
    "image = cv2.imread(img_path)\n",
    "img_resize = cv2.resize(image, (1280,720))"
   ]
  },
  {
   "cell_type": "code",
   "execution_count": 39,
   "metadata": {},
   "outputs": [],
   "source": [
    "center = (780, 250)\n",
    "radius = 150 \n",
    "color = (23,220, 75)\n",
    "thickness = -1\n",
    "lineType = cv2.LINE_8\n",
    "shift = 0\n",
    "\n",
    "img_circle=cv2.circle(img_resize, center, radius, color, thickness, lineType, shift)"
   ]
  },
  {
   "cell_type": "code",
   "execution_count": 40,
   "metadata": {},
   "outputs": [],
   "source": [
    "cv2.imshow(\"Model Image\", img_circle)\n",
    " \n",
    "cv2.waitKey(0)\n",
    "cv2.destroyAllWindows()"
   ]
  },
  {
   "cell_type": "markdown",
   "metadata": {},
   "source": [
    "Draw 2 Circles"
   ]
  },
  {
   "cell_type": "code",
   "execution_count": 41,
   "metadata": {},
   "outputs": [],
   "source": [
    "img_path=r'C:\\Users\\Pramod Rai\\Desktop\\opencv_ai_production\\opencv_ai_production\\images\\pexels-bess-hamiti-35537.jpg'\n",
    "image = cv2.imread(img_path)\n",
    "img_resize = cv2.resize(image, (1280,720))"
   ]
  },
  {
   "cell_type": "code",
   "execution_count": 42,
   "metadata": {},
   "outputs": [
    {
     "data": {
      "text/plain": [
       "array([[[19,  7,  7],\n",
       "        [19,  7,  7],\n",
       "        [18,  6,  6],\n",
       "        ...,\n",
       "        [23, 17, 14],\n",
       "        [24, 17, 14],\n",
       "        [24, 17, 14]],\n",
       "\n",
       "       [[19,  7,  7],\n",
       "        [19,  7,  7],\n",
       "        [18,  6,  6],\n",
       "        ...,\n",
       "        [23, 17, 14],\n",
       "        [24, 17, 14],\n",
       "        [24, 17, 14]],\n",
       "\n",
       "       [[18,  6,  6],\n",
       "        [18,  6,  6],\n",
       "        [19,  7,  7],\n",
       "        ...,\n",
       "        [23, 17, 14],\n",
       "        [24, 17, 14],\n",
       "        [24, 17, 14]],\n",
       "\n",
       "       ...,\n",
       "\n",
       "       [[27, 18,  8],\n",
       "        [27, 18,  8],\n",
       "        [27, 18,  8],\n",
       "        ...,\n",
       "        [33, 27, 22],\n",
       "        [33, 27, 22],\n",
       "        [33, 27, 22]],\n",
       "\n",
       "       [[27, 18,  8],\n",
       "        [27, 18,  8],\n",
       "        [27, 18,  8],\n",
       "        ...,\n",
       "        [33, 27, 22],\n",
       "        [33, 27, 22],\n",
       "        [33, 27, 22]],\n",
       "\n",
       "       [[27, 18,  8],\n",
       "        [27, 18,  8],\n",
       "        [27, 18,  8],\n",
       "        ...,\n",
       "        [33, 27, 22],\n",
       "        [33, 27, 22],\n",
       "        [33, 27, 22]]], dtype=uint8)"
      ]
     },
     "execution_count": 42,
     "metadata": {},
     "output_type": "execute_result"
    }
   ],
   "source": [
    "center = (780, 250)\n",
    "radius = 130 \n",
    "color = (23,220, 75)\n",
    "thickness = 5\n",
    "lineType = cv2.LINE_8\n",
    "shift = 0\n",
    "\n",
    "cv2.circle(img_resize, center, radius, color, thickness, lineType, shift)"
   ]
  },
  {
   "cell_type": "code",
   "execution_count": 43,
   "metadata": {},
   "outputs": [
    {
     "data": {
      "text/plain": [
       "array([[[19,  7,  7],\n",
       "        [19,  7,  7],\n",
       "        [18,  6,  6],\n",
       "        ...,\n",
       "        [23, 17, 14],\n",
       "        [24, 17, 14],\n",
       "        [24, 17, 14]],\n",
       "\n",
       "       [[19,  7,  7],\n",
       "        [19,  7,  7],\n",
       "        [18,  6,  6],\n",
       "        ...,\n",
       "        [23, 17, 14],\n",
       "        [24, 17, 14],\n",
       "        [24, 17, 14]],\n",
       "\n",
       "       [[18,  6,  6],\n",
       "        [18,  6,  6],\n",
       "        [19,  7,  7],\n",
       "        ...,\n",
       "        [23, 17, 14],\n",
       "        [24, 17, 14],\n",
       "        [24, 17, 14]],\n",
       "\n",
       "       ...,\n",
       "\n",
       "       [[27, 18,  8],\n",
       "        [27, 18,  8],\n",
       "        [27, 18,  8],\n",
       "        ...,\n",
       "        [33, 27, 22],\n",
       "        [33, 27, 22],\n",
       "        [33, 27, 22]],\n",
       "\n",
       "       [[27, 18,  8],\n",
       "        [27, 18,  8],\n",
       "        [27, 18,  8],\n",
       "        ...,\n",
       "        [33, 27, 22],\n",
       "        [33, 27, 22],\n",
       "        [33, 27, 22]],\n",
       "\n",
       "       [[27, 18,  8],\n",
       "        [27, 18,  8],\n",
       "        [27, 18,  8],\n",
       "        ...,\n",
       "        [33, 27, 22],\n",
       "        [33, 27, 22],\n",
       "        [33, 27, 22]]], dtype=uint8)"
      ]
     },
     "execution_count": 43,
     "metadata": {},
     "output_type": "execute_result"
    }
   ],
   "source": [
    "center2 = (640, 450)\n",
    "radius2 = 80\n",
    "color2 = (36,90,10)\n",
    " \n",
    "cv2.circle(img_resize, center2, radius2, color2, thickness, lineType, shift)"
   ]
  },
  {
   "cell_type": "code",
   "execution_count": 44,
   "metadata": {},
   "outputs": [],
   "source": [
    "cv2.imshow(\"Model Image\", img_resize)\n",
    " \n",
    "cv2.waitKey(0)\n",
    "cv2.destroyAllWindows()"
   ]
  },
  {
   "cell_type": "markdown",
   "metadata": {},
   "source": [
    "Draw Multiple Circles & Text"
   ]
  },
  {
   "cell_type": "code",
   "execution_count": 45,
   "metadata": {},
   "outputs": [],
   "source": [
    "img_path=r'C:\\Users\\Pramod Rai\\Desktop\\opencv_ai_production\\opencv_ai_production\\images\\pexels-bess-hamiti-35537.jpg'\n",
    "image = cv2.imread(img_path)\n",
    "img_resize = cv2.resize(image, (1280,720))"
   ]
  },
  {
   "cell_type": "code",
   "execution_count": 46,
   "metadata": {},
   "outputs": [],
   "source": [
    "center = (780, 250)\n",
    "radius = 130\n",
    "color = (28,68,235)\n",
    "thickness = 6\n",
    "linetype = cv2.LINE_4\n",
    "shift = 0\n",
    " \n",
    "color2 = (2555,0,0)\n",
    "radius2 = 120\n",
    " \n",
    "color3 = (0,255,0)\n",
    "radius3 = 110\n",
    " \n",
    "color4 = (0,0,255)\n",
    "radius4 = 100\n",
    " \n",
    "color5 = (85,87,93)\n",
    "radius5 = 90\n",
    " \n",
    "color6 = (65,207,203)\n",
    "radius6 = 80\n",
    " \n",
    "color7 = (65,207,203)\n",
    "radius7 = 80"
   ]
  },
  {
   "cell_type": "code",
   "execution_count": 47,
   "metadata": {},
   "outputs": [
    {
     "data": {
      "text/plain": [
       "array([[[19,  7,  7],\n",
       "        [19,  7,  7],\n",
       "        [18,  6,  6],\n",
       "        ...,\n",
       "        [23, 17, 14],\n",
       "        [24, 17, 14],\n",
       "        [24, 17, 14]],\n",
       "\n",
       "       [[19,  7,  7],\n",
       "        [19,  7,  7],\n",
       "        [18,  6,  6],\n",
       "        ...,\n",
       "        [23, 17, 14],\n",
       "        [24, 17, 14],\n",
       "        [24, 17, 14]],\n",
       "\n",
       "       [[18,  6,  6],\n",
       "        [18,  6,  6],\n",
       "        [19,  7,  7],\n",
       "        ...,\n",
       "        [23, 17, 14],\n",
       "        [24, 17, 14],\n",
       "        [24, 17, 14]],\n",
       "\n",
       "       ...,\n",
       "\n",
       "       [[27, 18,  8],\n",
       "        [27, 18,  8],\n",
       "        [27, 18,  8],\n",
       "        ...,\n",
       "        [33, 27, 22],\n",
       "        [33, 27, 22],\n",
       "        [33, 27, 22]],\n",
       "\n",
       "       [[27, 18,  8],\n",
       "        [27, 18,  8],\n",
       "        [27, 18,  8],\n",
       "        ...,\n",
       "        [33, 27, 22],\n",
       "        [33, 27, 22],\n",
       "        [33, 27, 22]],\n",
       "\n",
       "       [[27, 18,  8],\n",
       "        [27, 18,  8],\n",
       "        [27, 18,  8],\n",
       "        ...,\n",
       "        [33, 27, 22],\n",
       "        [33, 27, 22],\n",
       "        [33, 27, 22]]], dtype=uint8)"
      ]
     },
     "execution_count": 47,
     "metadata": {},
     "output_type": "execute_result"
    }
   ],
   "source": [
    "cv2.circle(img_resize, center, radius, color, thickness, linetype, shift)\n",
    "cv2.circle(img_resize, center, radius2, color2, thickness, linetype, shift)\n",
    "cv2.circle(img_resize, center, radius3, color3, thickness, linetype, shift)\n",
    "cv2.circle(img_resize, center, radius4, color4, thickness, linetype, shift)\n",
    "cv2.circle(img_resize, center, radius5, color5, thickness, linetype, shift)\n",
    "cv2.circle(img_resize, center, radius6, color6, thickness, linetype, shift)\n",
    "cv2.circle(img_resize, center, radius7, color7, thickness, linetype, shift)"
   ]
  },
  {
   "cell_type": "code",
   "execution_count": 48,
   "metadata": {},
   "outputs": [
    {
     "data": {
      "text/plain": [
       "array([[[19,  7,  7],\n",
       "        [19,  7,  7],\n",
       "        [18,  6,  6],\n",
       "        ...,\n",
       "        [23, 17, 14],\n",
       "        [24, 17, 14],\n",
       "        [24, 17, 14]],\n",
       "\n",
       "       [[19,  7,  7],\n",
       "        [19,  7,  7],\n",
       "        [18,  6,  6],\n",
       "        ...,\n",
       "        [23, 17, 14],\n",
       "        [24, 17, 14],\n",
       "        [24, 17, 14]],\n",
       "\n",
       "       [[18,  6,  6],\n",
       "        [18,  6,  6],\n",
       "        [19,  7,  7],\n",
       "        ...,\n",
       "        [23, 17, 14],\n",
       "        [24, 17, 14],\n",
       "        [24, 17, 14]],\n",
       "\n",
       "       ...,\n",
       "\n",
       "       [[27, 18,  8],\n",
       "        [27, 18,  8],\n",
       "        [27, 18,  8],\n",
       "        ...,\n",
       "        [33, 27, 22],\n",
       "        [33, 27, 22],\n",
       "        [33, 27, 22]],\n",
       "\n",
       "       [[27, 18,  8],\n",
       "        [27, 18,  8],\n",
       "        [27, 18,  8],\n",
       "        ...,\n",
       "        [33, 27, 22],\n",
       "        [33, 27, 22],\n",
       "        [33, 27, 22]],\n",
       "\n",
       "       [[27, 18,  8],\n",
       "        [27, 18,  8],\n",
       "        [27, 18,  8],\n",
       "        ...,\n",
       "        [33, 27, 22],\n",
       "        [33, 27, 22],\n",
       "        [33, 27, 22]]], dtype=uint8)"
      ]
     },
     "execution_count": 48,
     "metadata": {},
     "output_type": "execute_result"
    }
   ],
   "source": [
    "cv2.putText(img_resize, \"Model Face\", (410, 110), cv2.FONT_HERSHEY_COMPLEX_SMALL, 3, (0,255,0), 3)"
   ]
  },
  {
   "cell_type": "code",
   "execution_count": 49,
   "metadata": {},
   "outputs": [],
   "source": [
    "cv2.imshow(\"Model Image\", img_resize)\n",
    " \n",
    "cv2.waitKey(0)\n",
    "cv2.destroyAllWindows()"
   ]
  },
  {
   "cell_type": "code",
   "execution_count": 50,
   "metadata": {},
   "outputs": [
    {
     "data": {
      "text/plain": [
       "True"
      ]
     },
     "execution_count": 50,
     "metadata": {},
     "output_type": "execute_result"
    }
   ],
   "source": [
    "cv2.imwrite('multiple_circle_pic.jpg',img_resize)"
   ]
  },
  {
   "cell_type": "code",
   "execution_count": null,
   "metadata": {},
   "outputs": [],
   "source": []
  }
 ],
 "metadata": {
  "kernelspec": {
   "display_name": "Python 3",
   "language": "python",
   "name": "python3"
  },
  "language_info": {
   "codemirror_mode": {
    "name": "ipython",
    "version": 3
   },
   "file_extension": ".py",
   "mimetype": "text/x-python",
   "name": "python",
   "nbconvert_exporter": "python",
   "pygments_lexer": "ipython3",
   "version": "3.12.0"
  }
 },
 "nbformat": 4,
 "nbformat_minor": 2
}
