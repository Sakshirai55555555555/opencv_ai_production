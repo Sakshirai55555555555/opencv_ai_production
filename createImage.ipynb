{
 "cells": [
  {
   "cell_type": "code",
   "execution_count": 1,
   "metadata": {},
   "outputs": [],
   "source": [
    "import cv2\n",
    "import numpy as np\n",
    "import os"
   ]
  },
  {
   "cell_type": "markdown",
   "metadata": {},
   "source": [
    "Save Numpy Array"
   ]
  },
  {
   "cell_type": "code",
   "execution_count": 2,
   "metadata": {},
   "outputs": [
    {
     "data": {
      "text/plain": [
       "True"
      ]
     },
     "execution_count": 2,
     "metadata": {},
     "output_type": "execute_result"
    }
   ],
   "source": [
    "\n",
    "rand_array = np.random.randint(255, size = (300,600,3))\n",
    " \n",
    "cv2.imwrite(\"rand_np_array.png\", rand_array)"
   ]
  },
  {
   "cell_type": "code",
   "execution_count": 3,
   "metadata": {},
   "outputs": [],
   "source": [
    "img = cv2.imread(\"rand_np_array.png\")\n",
    "cv2.imshow('image', img)\n",
    "cv2.waitKey(0)\n",
    "cv2.destroyAllWindows()"
   ]
  },
  {
   "cell_type": "markdown",
   "metadata": {},
   "source": [
    "saving image and converting it from jpeg to png"
   ]
  },
  {
   "cell_type": "code",
   "execution_count": 6,
   "metadata": {},
   "outputs": [],
   "source": [
    "img=cv2.imread(r'C:\\Users\\Pramod Rai\\Desktop\\cv\\images\\pexels-bess-hamiti-35537.jpg')\n",
    "cv2.imwrite(\"model_write.png\", img)\n",
    "img2=cv2.imread(\"model_write.png\")\n",
    "img3=cv2.resize(img2,(600,400))\n",
    "cv2.imshow('converted',img3)\n",
    "cv2.waitKey(0)\n",
    "cv2.destroyAllWindows()\n",
    "#converted an jpg image to png"
   ]
  },
  {
   "cell_type": "code",
   "execution_count": null,
   "metadata": {},
   "outputs": [],
   "source": [
    "video_path = r\"C:\\Users\\kashz\\AI Life\\AI Projects - IAIP, PTs (Web + Channel)\\02 OpenCV\\007 Live Face and Eye Detection\\school_girl.mp4\"\n",
    " \n",
    "os.mkdir(\"video_to_image\") # create directory\n",
    " \n",
    "cap = cv2.VideoCapture(video_path) # capture video\n",
    " \n",
    "img_count = 1\n",
    "while cap.isOpened():\n",
    "    ret, frame = cap.read() # read video frame\n",
    "     \n",
    "    if not ret:\n",
    "        print(\"Unable to read frame\")\n",
    "        break\n",
    "     \n",
    "    is_img_write = cv2.imwrite(f\"video_to_image\\image{img_count}.jpeg\", frame)#image is saving\n",
    "     \n",
    "    if is_img_write:\n",
    "        print(f'image save at video_to_image\\image{img_count}.jpeg')#to print in terminal\n",
    "         \n",
    "    cv2.imshow(\"video\", frame )\n",
    "     \n",
    "    cv2.waitKey(25) & 0xff == ord('q')\n",
    "    img_count += 1\n",
    "     \n",
    "cap.release()\n",
    "cv2.destroyAllWindows()"
   ]
  }
 ],
 "metadata": {
  "kernelspec": {
   "display_name": "Python 3",
   "language": "python",
   "name": "python3"
  },
  "language_info": {
   "codemirror_mode": {
    "name": "ipython",
    "version": 3
   },
   "file_extension": ".py",
   "mimetype": "text/x-python",
   "name": "python",
   "nbconvert_exporter": "python",
   "pygments_lexer": "ipython3",
   "version": "3.12.0"
  }
 },
 "nbformat": 4,
 "nbformat_minor": 2
}
