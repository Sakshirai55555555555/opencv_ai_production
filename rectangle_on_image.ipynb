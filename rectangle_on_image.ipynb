{
 "cells": [
  {
   "cell_type": "code",
   "execution_count": 1,
   "metadata": {},
   "outputs": [],
   "source": [
    "import cv2\n",
    "import numpy as np"
   ]
  },
  {
   "cell_type": "code",
   "execution_count": 2,
   "metadata": {},
   "outputs": [],
   "source": [
    "img_path = r\"C:\\Users\\Pramod Rai\\Desktop\\opencv_ai_production\\opencv_ai_production\\images\\pexels-pixabay-220453.jpg\"\n",
    " \n",
    "image = cv2.imread(img_path)\n",
    "image = cv2.resize(image, (1280, 720))"
   ]
  },
  {
   "cell_type": "markdown",
   "metadata": {},
   "source": [
    "Draw Rectangle on Image"
   ]
  },
  {
   "cell_type": "code",
   "execution_count": 3,
   "metadata": {},
   "outputs": [],
   "source": [
    "pt1 = (400, 40)\n",
    "pt2 = (800, 300)\n",
    "color = (0, 255, 0)\n",
    "thickness = 4\n",
    "lineType = cv2.LINE_4"
   ]
  },
  {
   "cell_type": "code",
   "execution_count": 4,
   "metadata": {},
   "outputs": [],
   "source": [
    "img_rect = cv2.rectangle(image, pt1, pt2, color, thickness, lineType)"
   ]
  },
  {
   "cell_type": "code",
   "execution_count": 5,
   "metadata": {},
   "outputs": [],
   "source": [
    "\n",
    "cv2.imshow(\"Rectangle on Image\", img_rect)\n",
    " \n",
    "cv2.waitKey(0)\n",
    "cv2.destroyAllWindows()"
   ]
  },
  {
   "cell_type": "markdown",
   "metadata": {},
   "source": [
    "Fill Rectangle on Image"
   ]
  },
  {
   "cell_type": "code",
   "execution_count": 6,
   "metadata": {},
   "outputs": [],
   "source": [
    "img_path=r'C:\\Users\\Pramod Rai\\Desktop\\opencv_ai_production\\opencv_ai_production\\images\\pexels-simon-robben-614810.jpg'"
   ]
  },
  {
   "cell_type": "code",
   "execution_count": 7,
   "metadata": {},
   "outputs": [],
   "source": [
    "image = cv2.imread(img_path)\n",
    "image = cv2.resize(image, (1280, 720))"
   ]
  },
  {
   "cell_type": "code",
   "execution_count": 8,
   "metadata": {},
   "outputs": [],
   "source": [
    "pt1 = (400, 40)\n",
    "pt2 = (800, 300)\n",
    "color = (255, 0, 0)\n",
    "thickness = -1\n",
    "lineType = cv2.LINE_4"
   ]
  },
  {
   "cell_type": "code",
   "execution_count": 9,
   "metadata": {},
   "outputs": [],
   "source": [
    "img_rect = cv2.rectangle(image, pt1, pt2, color, thickness, lineType)"
   ]
  },
  {
   "cell_type": "code",
   "execution_count": 10,
   "metadata": {},
   "outputs": [],
   "source": [
    "cv2.imshow(\"Rectangle on Image\", img_rect)\n",
    " \n",
    "cv2.waitKey(0)\n",
    "cv2.destroyAllWindows()"
   ]
  },
  {
   "cell_type": "markdown",
   "metadata": {},
   "source": [
    "Text On Rectangle on Image"
   ]
  },
  {
   "cell_type": "code",
   "execution_count": 11,
   "metadata": {},
   "outputs": [],
   "source": [
    "img_path=r'images/pexels-andrea-piacquadio-774909.jpg'"
   ]
  },
  {
   "cell_type": "code",
   "execution_count": 12,
   "metadata": {},
   "outputs": [],
   "source": [
    "image = cv2.imread(img_path)\n",
    "image = cv2.resize(image, (1280, 720))"
   ]
  },
  {
   "cell_type": "code",
   "execution_count": 13,
   "metadata": {},
   "outputs": [],
   "source": [
    "pt1 = (400, 40)\n",
    "pt2 = (800, 300)\n",
    "color = (255, 0, 0)\n",
    "thickness = -1\n",
    "lineType = cv2.LINE_4\n",
    "\n",
    "img_rect = cv2.rectangle(image, pt1, pt2, color, thickness, lineType)"
   ]
  },
  {
   "cell_type": "code",
   "execution_count": 14,
   "metadata": {},
   "outputs": [],
   "source": [
    "#text on image\n",
    "text = \"Face - 100%\"\n",
    "org = (500, 170)\n",
    "fontFace = cv2.FONT_HERSHEY_SIMPLEX\n",
    "fontScale = 1\n",
    "color = (0,255,25)\n",
    "lineType = cv2.LINE_4\n",
    "\n",
    "img_text = cv2.putText(img_rect, text, org, fontFace, fontScale, color, lineType)"
   ]
  },
  {
   "cell_type": "code",
   "execution_count": 15,
   "metadata": {},
   "outputs": [],
   "source": [
    "cv2.imshow(\"Rectangle on Image\", img_text)\n",
    " \n",
    "cv2.waitKey(0)\n",
    "cv2.destroyAllWindows()"
   ]
  },
  {
   "cell_type": "markdown",
   "metadata": {},
   "source": [
    "Text Above Rectangle on Image"
   ]
  },
  {
   "cell_type": "code",
   "execution_count": 16,
   "metadata": {},
   "outputs": [],
   "source": [
    "img_path=r'C:\\Users\\Pramod Rai\\Desktop\\opencv_ai_production\\opencv_ai_production\\images\\pexels-pixabay-35183.jpg'"
   ]
  },
  {
   "cell_type": "code",
   "execution_count": 17,
   "metadata": {},
   "outputs": [],
   "source": [
    "image = cv2.imread(img_path)\n",
    "image = cv2.resize(image, (1280, 720))"
   ]
  },
  {
   "cell_type": "code",
   "execution_count": 18,
   "metadata": {},
   "outputs": [],
   "source": [
    "pt1 = (400, 40)\n",
    "pt2 = (800, 300)\n",
    "color = (255, 0, 0)\n",
    "thickness = 4\n",
    "lineType = cv2.LINE_4\n",
    " \n",
    "img_rect = cv2.rectangle(image, pt1, pt2, color, thickness, lineType)"
   ]
  },
  {
   "cell_type": "code",
   "execution_count": 19,
   "metadata": {},
   "outputs": [],
   "source": [
    "#text on image\n",
    "text = \"Face - 100%\"\n",
    "org = (400, 30)\n",
    "fontFace = cv2.FONT_HERSHEY_SIMPLEX\n",
    "fontScale = 1\n",
    "color = (0,255,25)\n",
    "lineType = cv2.LINE_4\n",
    "\n",
    "img_text = cv2.putText(img_rect, text, org, fontFace, fontScale, color, lineType)"
   ]
  },
  {
   "cell_type": "code",
   "execution_count": 20,
   "metadata": {},
   "outputs": [],
   "source": [
    "cv2.imshow(\"Rectangle on Image\", img_text)\n",
    " \n",
    "cv2.waitKey(0)\n",
    "cv2.destroyAllWindows()"
   ]
  },
  {
   "cell_type": "markdown",
   "metadata": {},
   "source": [
    "saving the image"
   ]
  },
  {
   "cell_type": "code",
   "execution_count": 21,
   "metadata": {},
   "outputs": [
    {
     "data": {
      "text/plain": [
       "True"
      ]
     },
     "execution_count": 21,
     "metadata": {},
     "output_type": "execute_result"
    }
   ],
   "source": [
    "cv2.imwrite(\"image_with_rect_text.png\", img_text)"
   ]
  },
  {
   "cell_type": "code",
   "execution_count": null,
   "metadata": {},
   "outputs": [],
   "source": []
  }
 ],
 "metadata": {
  "kernelspec": {
   "display_name": "Python 3",
   "language": "python",
   "name": "python3"
  },
  "language_info": {
   "codemirror_mode": {
    "name": "ipython",
    "version": 3
   },
   "file_extension": ".py",
   "mimetype": "text/x-python",
   "name": "python",
   "nbconvert_exporter": "python",
   "pygments_lexer": "ipython3",
   "version": "3.12.0"
  }
 },
 "nbformat": 4,
 "nbformat_minor": 2
}
