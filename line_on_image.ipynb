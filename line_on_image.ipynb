{
 "cells": [
  {
   "cell_type": "code",
   "execution_count": 1,
   "metadata": {},
   "outputs": [],
   "source": [
    "import cv2\n",
    "import numpy as np"
   ]
  },
  {
   "cell_type": "markdown",
   "metadata": {},
   "source": [
    "Line On Image"
   ]
  },
  {
   "cell_type": "code",
   "execution_count": 2,
   "metadata": {},
   "outputs": [],
   "source": [
    "img_path=r'C:\\Users\\Pramod Rai\\Desktop\\opencv_ai_production\\opencv_ai_production\\images\\pexels-bess-hamiti-35537.jpg'\n",
    "image = cv2.imread(img_path)\n",
    "img_resize = cv2.resize(image, (1280,720))"
   ]
  },
  {
   "cell_type": "code",
   "execution_count": 3,
   "metadata": {},
   "outputs": [
    {
     "data": {
      "text/plain": [
       "array([[[19,  7,  7],\n",
       "        [19,  7,  7],\n",
       "        [18,  6,  6],\n",
       "        ...,\n",
       "        [23, 17, 14],\n",
       "        [24, 17, 14],\n",
       "        [24, 17, 14]],\n",
       "\n",
       "       [[19,  7,  7],\n",
       "        [19,  7,  7],\n",
       "        [18,  6,  6],\n",
       "        ...,\n",
       "        [23, 17, 14],\n",
       "        [24, 17, 14],\n",
       "        [24, 17, 14]],\n",
       "\n",
       "       [[18,  6,  6],\n",
       "        [18,  6,  6],\n",
       "        [19,  7,  7],\n",
       "        ...,\n",
       "        [23, 17, 14],\n",
       "        [24, 17, 14],\n",
       "        [24, 17, 14]],\n",
       "\n",
       "       ...,\n",
       "\n",
       "       [[27, 18,  8],\n",
       "        [27, 18,  8],\n",
       "        [27, 18,  8],\n",
       "        ...,\n",
       "        [33, 27, 22],\n",
       "        [33, 27, 22],\n",
       "        [33, 27, 22]],\n",
       "\n",
       "       [[27, 18,  8],\n",
       "        [27, 18,  8],\n",
       "        [27, 18,  8],\n",
       "        ...,\n",
       "        [33, 27, 22],\n",
       "        [33, 27, 22],\n",
       "        [33, 27, 22]],\n",
       "\n",
       "       [[27, 18,  8],\n",
       "        [27, 18,  8],\n",
       "        [27, 18,  8],\n",
       "        ...,\n",
       "        [33, 27, 22],\n",
       "        [33, 27, 22],\n",
       "        [33, 27, 22]]], dtype=uint8)"
      ]
     },
     "execution_count": 3,
     "metadata": {},
     "output_type": "execute_result"
    }
   ],
   "source": [
    "pt1 = (500, 140)\n",
    "pt2 = (1050, 140)\n",
    "color = (23,200,54)\n",
    "thickness = 50\n",
    "\n",
    "cv2.line(img_resize, pt1, pt2, color, thickness)"
   ]
  },
  {
   "cell_type": "code",
   "execution_count": 4,
   "metadata": {},
   "outputs": [],
   "source": [
    "cv2.imshow(\"Model Image\", img_resize)\n",
    "cv2.waitKey(0)\n",
    "cv2.destroyAllWindows()"
   ]
  },
  {
   "cell_type": "markdown",
   "metadata": {},
   "source": [
    "Draw 2 lines on Image"
   ]
  },
  {
   "cell_type": "code",
   "execution_count": 5,
   "metadata": {},
   "outputs": [],
   "source": [
    "img_path=r'C:\\Users\\Pramod Rai\\Desktop\\opencv_ai_production\\opencv_ai_production\\images\\pexels-bess-hamiti-35537.jpg'\n",
    "image = cv2.imread(img_path)\n",
    "img_resize = cv2.resize(image, (1280,720))"
   ]
  },
  {
   "cell_type": "code",
   "execution_count": 6,
   "metadata": {},
   "outputs": [],
   "source": [
    "pt1 = (500, 140)\n",
    "pt2 = (1050, 140)\n",
    "color = (23,200,54)\n",
    "thickness = 50\n",
    "\n",
    "thickness2 = 5\n",
    "color2 = (12,43,200)"
   ]
  },
  {
   "cell_type": "code",
   "execution_count": 7,
   "metadata": {},
   "outputs": [
    {
     "data": {
      "text/plain": [
       "array([[[19,  7,  7],\n",
       "        [19,  7,  7],\n",
       "        [18,  6,  6],\n",
       "        ...,\n",
       "        [23, 17, 14],\n",
       "        [24, 17, 14],\n",
       "        [24, 17, 14]],\n",
       "\n",
       "       [[19,  7,  7],\n",
       "        [19,  7,  7],\n",
       "        [18,  6,  6],\n",
       "        ...,\n",
       "        [23, 17, 14],\n",
       "        [24, 17, 14],\n",
       "        [24, 17, 14]],\n",
       "\n",
       "       [[18,  6,  6],\n",
       "        [18,  6,  6],\n",
       "        [19,  7,  7],\n",
       "        ...,\n",
       "        [23, 17, 14],\n",
       "        [24, 17, 14],\n",
       "        [24, 17, 14]],\n",
       "\n",
       "       ...,\n",
       "\n",
       "       [[27, 18,  8],\n",
       "        [27, 18,  8],\n",
       "        [27, 18,  8],\n",
       "        ...,\n",
       "        [33, 27, 22],\n",
       "        [33, 27, 22],\n",
       "        [33, 27, 22]],\n",
       "\n",
       "       [[27, 18,  8],\n",
       "        [27, 18,  8],\n",
       "        [27, 18,  8],\n",
       "        ...,\n",
       "        [33, 27, 22],\n",
       "        [33, 27, 22],\n",
       "        [33, 27, 22]],\n",
       "\n",
       "       [[27, 18,  8],\n",
       "        [27, 18,  8],\n",
       "        [27, 18,  8],\n",
       "        ...,\n",
       "        [33, 27, 22],\n",
       "        [33, 27, 22],\n",
       "        [33, 27, 22]]], dtype=uint8)"
      ]
     },
     "execution_count": 7,
     "metadata": {},
     "output_type": "execute_result"
    }
   ],
   "source": [
    "cv2.line(img_resize, pt1, pt2, color, thickness)\n",
    "cv2.line(img_resize, pt1, pt2, color2, thickness2)"
   ]
  },
  {
   "cell_type": "code",
   "execution_count": 8,
   "metadata": {},
   "outputs": [],
   "source": [
    "cv2.imshow(\"Model Image\", img_resize)\n",
    "cv2.waitKey(0)\n",
    "cv2.destroyAllWindows()"
   ]
  },
  {
   "cell_type": "markdown",
   "metadata": {},
   "source": [
    "Draw multiple lines on Image"
   ]
  },
  {
   "cell_type": "code",
   "execution_count": 9,
   "metadata": {},
   "outputs": [],
   "source": [
    "img_path=r'C:\\Users\\Pramod Rai\\Desktop\\opencv_ai_production\\opencv_ai_production\\images\\pexels-bess-hamiti-35537.jpg'\n",
    "image = cv2.imread(img_path)\n",
    "img_resize = cv2.resize(image, (1280,720))"
   ]
  },
  {
   "cell_type": "code",
   "execution_count": 12,
   "metadata": {},
   "outputs": [],
   "source": [
    "pt1 = (500, 140)\n",
    "pt2 = (1050, 140)\n",
    "color = (23,200,54)\n",
    "thickness = 50\n",
    "\n",
    "thickness2 = 20\n",
    "color2 = (12,43,200)\n",
    "\n",
    "thickness3 =10\n",
    "color3=(200,20,20)\n",
    "\n",
    "thickness4=5\n",
    "color4=(100,100,100)"
   ]
  },
  {
   "cell_type": "code",
   "execution_count": 13,
   "metadata": {},
   "outputs": [
    {
     "data": {
      "text/plain": [
       "array([[[19,  7,  7],\n",
       "        [19,  7,  7],\n",
       "        [18,  6,  6],\n",
       "        ...,\n",
       "        [23, 17, 14],\n",
       "        [24, 17, 14],\n",
       "        [24, 17, 14]],\n",
       "\n",
       "       [[19,  7,  7],\n",
       "        [19,  7,  7],\n",
       "        [18,  6,  6],\n",
       "        ...,\n",
       "        [23, 17, 14],\n",
       "        [24, 17, 14],\n",
       "        [24, 17, 14]],\n",
       "\n",
       "       [[18,  6,  6],\n",
       "        [18,  6,  6],\n",
       "        [19,  7,  7],\n",
       "        ...,\n",
       "        [23, 17, 14],\n",
       "        [24, 17, 14],\n",
       "        [24, 17, 14]],\n",
       "\n",
       "       ...,\n",
       "\n",
       "       [[27, 18,  8],\n",
       "        [27, 18,  8],\n",
       "        [27, 18,  8],\n",
       "        ...,\n",
       "        [33, 27, 22],\n",
       "        [33, 27, 22],\n",
       "        [33, 27, 22]],\n",
       "\n",
       "       [[27, 18,  8],\n",
       "        [27, 18,  8],\n",
       "        [27, 18,  8],\n",
       "        ...,\n",
       "        [33, 27, 22],\n",
       "        [33, 27, 22],\n",
       "        [33, 27, 22]],\n",
       "\n",
       "       [[27, 18,  8],\n",
       "        [27, 18,  8],\n",
       "        [27, 18,  8],\n",
       "        ...,\n",
       "        [33, 27, 22],\n",
       "        [33, 27, 22],\n",
       "        [33, 27, 22]]], dtype=uint8)"
      ]
     },
     "execution_count": 13,
     "metadata": {},
     "output_type": "execute_result"
    }
   ],
   "source": [
    "cv2.line(img_resize, pt1, pt2, color, thickness)\n",
    "cv2.line(img_resize, pt1, pt2, color2, thickness2)\n",
    "cv2.line(img_resize, pt1, pt2, color3, thickness3)\n",
    "cv2.line(img_resize, pt1, pt2, color4, thickness4)\n",
    " "
   ]
  },
  {
   "cell_type": "code",
   "execution_count": 14,
   "metadata": {},
   "outputs": [],
   "source": [
    "cv2.imshow(\"Model Image\", img_resize)\n",
    "cv2.waitKey(0)\n",
    "cv2.destroyAllWindows()"
   ]
  },
  {
   "cell_type": "code",
   "execution_count": 15,
   "metadata": {},
   "outputs": [
    {
     "data": {
      "text/plain": [
       "True"
      ]
     },
     "execution_count": 15,
     "metadata": {},
     "output_type": "execute_result"
    }
   ],
   "source": [
    "cv2.imwrite('multiple_lines.png',img_resize)"
   ]
  },
  {
   "cell_type": "markdown",
   "metadata": {},
   "source": [
    "Line and Text on Image"
   ]
  },
  {
   "cell_type": "code",
   "execution_count": 16,
   "metadata": {},
   "outputs": [],
   "source": [
    "img_path=r'C:\\Users\\Pramod Rai\\Desktop\\opencv_ai_production\\opencv_ai_production\\images\\pexels-bess-hamiti-35537.jpg'\n",
    "image = cv2.imread(img_path)\n",
    "img_resize = cv2.resize(image, (1280,720))"
   ]
  },
  {
   "cell_type": "code",
   "execution_count": 17,
   "metadata": {},
   "outputs": [
    {
     "data": {
      "text/plain": [
       "array([[[19,  7,  7],\n",
       "        [19,  7,  7],\n",
       "        [18,  6,  6],\n",
       "        ...,\n",
       "        [23, 17, 14],\n",
       "        [24, 17, 14],\n",
       "        [24, 17, 14]],\n",
       "\n",
       "       [[19,  7,  7],\n",
       "        [19,  7,  7],\n",
       "        [18,  6,  6],\n",
       "        ...,\n",
       "        [23, 17, 14],\n",
       "        [24, 17, 14],\n",
       "        [24, 17, 14]],\n",
       "\n",
       "       [[18,  6,  6],\n",
       "        [18,  6,  6],\n",
       "        [19,  7,  7],\n",
       "        ...,\n",
       "        [23, 17, 14],\n",
       "        [24, 17, 14],\n",
       "        [24, 17, 14]],\n",
       "\n",
       "       ...,\n",
       "\n",
       "       [[27, 18,  8],\n",
       "        [27, 18,  8],\n",
       "        [27, 18,  8],\n",
       "        ...,\n",
       "        [33, 27, 22],\n",
       "        [33, 27, 22],\n",
       "        [33, 27, 22]],\n",
       "\n",
       "       [[27, 18,  8],\n",
       "        [27, 18,  8],\n",
       "        [27, 18,  8],\n",
       "        ...,\n",
       "        [33, 27, 22],\n",
       "        [33, 27, 22],\n",
       "        [33, 27, 22]],\n",
       "\n",
       "       [[27, 18,  8],\n",
       "        [27, 18,  8],\n",
       "        [27, 18,  8],\n",
       "        ...,\n",
       "        [33, 27, 22],\n",
       "        [33, 27, 22],\n",
       "        [33, 27, 22]]], dtype=uint8)"
      ]
     },
     "execution_count": 17,
     "metadata": {},
     "output_type": "execute_result"
    }
   ],
   "source": [
    "pt1 = (500, 140)\n",
    "pt2 = (1050, 140)\n",
    "color = (34,200,93)\n",
    "thickness = 8\n",
    "\n",
    "cv2.line(img_resize, pt1, pt2, color, thickness)"
   ]
  },
  {
   "cell_type": "code",
   "execution_count": 18,
   "metadata": {},
   "outputs": [
    {
     "data": {
      "text/plain": [
       "array([[[19,  7,  7],\n",
       "        [19,  7,  7],\n",
       "        [18,  6,  6],\n",
       "        ...,\n",
       "        [23, 17, 14],\n",
       "        [24, 17, 14],\n",
       "        [24, 17, 14]],\n",
       "\n",
       "       [[19,  7,  7],\n",
       "        [19,  7,  7],\n",
       "        [18,  6,  6],\n",
       "        ...,\n",
       "        [23, 17, 14],\n",
       "        [24, 17, 14],\n",
       "        [24, 17, 14]],\n",
       "\n",
       "       [[18,  6,  6],\n",
       "        [18,  6,  6],\n",
       "        [19,  7,  7],\n",
       "        ...,\n",
       "        [23, 17, 14],\n",
       "        [24, 17, 14],\n",
       "        [24, 17, 14]],\n",
       "\n",
       "       ...,\n",
       "\n",
       "       [[27, 18,  8],\n",
       "        [27, 18,  8],\n",
       "        [27, 18,  8],\n",
       "        ...,\n",
       "        [33, 27, 22],\n",
       "        [33, 27, 22],\n",
       "        [33, 27, 22]],\n",
       "\n",
       "       [[27, 18,  8],\n",
       "        [27, 18,  8],\n",
       "        [27, 18,  8],\n",
       "        ...,\n",
       "        [33, 27, 22],\n",
       "        [33, 27, 22],\n",
       "        [33, 27, 22]],\n",
       "\n",
       "       [[27, 18,  8],\n",
       "        [27, 18,  8],\n",
       "        [27, 18,  8],\n",
       "        ...,\n",
       "        [33, 27, 22],\n",
       "        [33, 27, 22],\n",
       "        [33, 27, 22]]], dtype=uint8)"
      ]
     },
     "execution_count": 18,
     "metadata": {},
     "output_type": "execute_result"
    }
   ],
   "source": [
    "cv2.putText(img_resize, \"Model Smile\", (600, 120), cv2.FONT_HERSHEY_SCRIPT_SIMPLEX, 2, (34,200,200), 3)\n",
    " "
   ]
  },
  {
   "cell_type": "code",
   "execution_count": 19,
   "metadata": {},
   "outputs": [],
   "source": [
    "cv2.imshow(\"Model Image\", img_resize)\n",
    "cv2.waitKey(0)\n",
    "cv2.destroyAllWindows()"
   ]
  },
  {
   "cell_type": "code",
   "execution_count": 20,
   "metadata": {},
   "outputs": [
    {
     "data": {
      "text/plain": [
       "True"
      ]
     },
     "execution_count": 20,
     "metadata": {},
     "output_type": "execute_result"
    }
   ],
   "source": [
    "cv2.imwrite(\"text_on_line.png\",img_resize)"
   ]
  }
 ],
 "metadata": {
  "kernelspec": {
   "display_name": "Python 3",
   "language": "python",
   "name": "python3"
  },
  "language_info": {
   "codemirror_mode": {
    "name": "ipython",
    "version": 3
   },
   "file_extension": ".py",
   "mimetype": "text/x-python",
   "name": "python",
   "nbconvert_exporter": "python",
   "pygments_lexer": "ipython3",
   "version": "3.12.0"
  }
 },
 "nbformat": 4,
 "nbformat_minor": 2
}
