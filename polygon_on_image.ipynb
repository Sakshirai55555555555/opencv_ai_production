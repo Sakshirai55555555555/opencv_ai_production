{
 "cells": [
  {
   "cell_type": "code",
   "execution_count": 3,
   "metadata": {},
   "outputs": [],
   "source": [
    "import cv2\n",
    "import numpy as np"
   ]
  },
  {
   "cell_type": "code",
   "execution_count": 4,
   "metadata": {},
   "outputs": [],
   "source": [
    "img_path=r'C:\\Users\\Pramod Rai\\Desktop\\opencv_ai_production\\opencv_ai_production\\images\\pexels-bess-hamiti-35537.jpg'\n",
    "image = cv2.imread(img_path)\n",
    "img_resize = cv2.resize(image, (1280,720))"
   ]
  },
  {
   "cell_type": "markdown",
   "metadata": {},
   "source": [
    "octagon"
   ]
  },
  {
   "cell_type": "code",
   "execution_count": 8,
   "metadata": {},
   "outputs": [
    {
     "data": {
      "text/plain": [
       "array([[[19,  7,  7],\n",
       "        [19,  7,  7],\n",
       "        [18,  6,  6],\n",
       "        ...,\n",
       "        [23, 17, 14],\n",
       "        [24, 17, 14],\n",
       "        [24, 17, 14]],\n",
       "\n",
       "       [[19,  7,  7],\n",
       "        [19,  7,  7],\n",
       "        [18,  6,  6],\n",
       "        ...,\n",
       "        [23, 17, 14],\n",
       "        [24, 17, 14],\n",
       "        [24, 17, 14]],\n",
       "\n",
       "       [[18,  6,  6],\n",
       "        [18,  6,  6],\n",
       "        [19,  7,  7],\n",
       "        ...,\n",
       "        [23, 17, 14],\n",
       "        [24, 17, 14],\n",
       "        [24, 17, 14]],\n",
       "\n",
       "       ...,\n",
       "\n",
       "       [[27, 18,  8],\n",
       "        [27, 18,  8],\n",
       "        [27, 18,  8],\n",
       "        ...,\n",
       "        [33, 27, 22],\n",
       "        [33, 27, 22],\n",
       "        [33, 27, 22]],\n",
       "\n",
       "       [[27, 18,  8],\n",
       "        [27, 18,  8],\n",
       "        [27, 18,  8],\n",
       "        ...,\n",
       "        [33, 27, 22],\n",
       "        [33, 27, 22],\n",
       "        [33, 27, 22]],\n",
       "\n",
       "       [[27, 18,  8],\n",
       "        [27, 18,  8],\n",
       "        [27, 18,  8],\n",
       "        ...,\n",
       "        [33, 27, 22],\n",
       "        [33, 27, 22],\n",
       "        [33, 27, 22]]], dtype=uint8)"
      ]
     },
     "execution_count": 8,
     "metadata": {},
     "output_type": "execute_result"
    }
   ],
   "source": [
    "pts = np.array([[25, 70], [25, 145], \n",
    "                [75, 190], [150, 190], \n",
    "                [200, 145], [200, 70],  \n",
    "                [150, 25], [75, 25]], \n",
    "               np.int32)\n",
    "isClosed = True\n",
    "color = (34,65,200)\n",
    "thickness = 5\n",
    "\n",
    "cv2.polylines(img_resize, [pts], isClosed, color, thickness)"
   ]
  },
  {
   "cell_type": "code",
   "execution_count": 9,
   "metadata": {},
   "outputs": [],
   "source": [
    "cv2.imshow(\"Model Image\", img_resize)\n",
    "cv2.waitKey(0)\n",
    "cv2.destroyAllWindows()"
   ]
  },
  {
   "cell_type": "markdown",
   "metadata": {},
   "source": [
    "polygon"
   ]
  },
  {
   "cell_type": "code",
   "execution_count": 10,
   "metadata": {},
   "outputs": [],
   "source": [
    "img_path=r'C:\\Users\\Pramod Rai\\Desktop\\opencv_ai_production\\opencv_ai_production\\images\\pexels-bess-hamiti-35537.jpg'\n",
    "image = cv2.imread(img_path)\n",
    "img_resize = cv2.resize(image, (1280,720))"
   ]
  },
  {
   "cell_type": "code",
   "execution_count": 11,
   "metadata": {},
   "outputs": [
    {
     "data": {
      "text/plain": [
       "array([[[19,  7,  7],\n",
       "        [19,  7,  7],\n",
       "        [18,  6,  6],\n",
       "        ...,\n",
       "        [23, 17, 14],\n",
       "        [24, 17, 14],\n",
       "        [24, 17, 14]],\n",
       "\n",
       "       [[19,  7,  7],\n",
       "        [19,  7,  7],\n",
       "        [18,  6,  6],\n",
       "        ...,\n",
       "        [23, 17, 14],\n",
       "        [24, 17, 14],\n",
       "        [24, 17, 14]],\n",
       "\n",
       "       [[18,  6,  6],\n",
       "        [18,  6,  6],\n",
       "        [19,  7,  7],\n",
       "        ...,\n",
       "        [23, 17, 14],\n",
       "        [24, 17, 14],\n",
       "        [24, 17, 14]],\n",
       "\n",
       "       ...,\n",
       "\n",
       "       [[27, 18,  8],\n",
       "        [27, 18,  8],\n",
       "        [27, 18,  8],\n",
       "        ...,\n",
       "        [33, 27, 22],\n",
       "        [33, 27, 22],\n",
       "        [33, 27, 22]],\n",
       "\n",
       "       [[27, 18,  8],\n",
       "        [27, 18,  8],\n",
       "        [27, 18,  8],\n",
       "        ...,\n",
       "        [33, 27, 22],\n",
       "        [33, 27, 22],\n",
       "        [33, 27, 22]],\n",
       "\n",
       "       [[27, 18,  8],\n",
       "        [27, 18,  8],\n",
       "        [27, 18,  8],\n",
       "        ...,\n",
       "        [33, 27, 22],\n",
       "        [33, 27, 22],\n",
       "        [33, 27, 22]]], dtype=uint8)"
      ]
     },
     "execution_count": 11,
     "metadata": {},
     "output_type": "execute_result"
    }
   ],
   "source": [
    "pts = np.array([[12,45], [34,56], [23,76], [67,98], [93,56]])\n",
    "isClosed = True\n",
    "color = (34,65,200)\n",
    "thickness = 5\n",
    "\n",
    "cv2.polylines(img_resize, [pts], isClosed, color, thickness)"
   ]
  },
  {
   "cell_type": "code",
   "execution_count": 12,
   "metadata": {},
   "outputs": [],
   "source": [
    "cv2.imshow(\"Model Image\", img_resize)\n",
    "cv2.waitKey(0)\n",
    "cv2.destroyAllWindows()"
   ]
  },
  {
   "cell_type": "code",
   "execution_count": null,
   "metadata": {},
   "outputs": [],
   "source": []
  }
 ],
 "metadata": {
  "kernelspec": {
   "display_name": "Python 3",
   "language": "python",
   "name": "python3"
  },
  "language_info": {
   "codemirror_mode": {
    "name": "ipython",
    "version": 3
   },
   "file_extension": ".py",
   "mimetype": "text/x-python",
   "name": "python",
   "nbconvert_exporter": "python",
   "pygments_lexer": "ipython3",
   "version": "3.12.0"
  }
 },
 "nbformat": 4,
 "nbformat_minor": 2
}
