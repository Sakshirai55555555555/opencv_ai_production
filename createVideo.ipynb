{
 "cells": [
  {
   "cell_type": "code",
   "execution_count": 1,
   "metadata": {},
   "outputs": [],
   "source": [
    "import numpy as np\n",
    "import cv2\n",
    "import os"
   ]
  },
  {
   "cell_type": "markdown",
   "metadata": {},
   "source": [
    "Video From NumPy Array"
   ]
  },
  {
   "cell_type": "code",
   "execution_count": 2,
   "metadata": {},
   "outputs": [],
   "source": [
    "width = 1280\n",
    "hieght = 720\n",
    "channel = 3   #Number of color channels (assuming RGB, i.e., Red, Green, Blue).\n",
    " \n",
    "fps = 30 #Frames per second (how many frames should be displayed per second in the video).\n",
    "sec = 5  #Duration of the video in seconds."
   ]
  },
  {
   "cell_type": "code",
   "execution_count": 3,
   "metadata": {},
   "outputs": [],
   "source": [
    "fourcc = cv2.VideoWriter_fourcc(*'MP42') #Four-character code codec used to encode the video format. In this case, 'MP42' codec is used[compresses and decompresses digital video.]"
   ]
  },
  {
   "cell_type": "code",
   "execution_count": 4,
   "metadata": {},
   "outputs": [],
   "source": [
    "video = cv2.VideoWriter('test.mp4', fourcc, float(fps), (width, height))\n",
    " \n",
    "for frame_count in range(fps*sec):\n",
    "    img = np.random.randint(0,255, (height, width, channel), dtype = np.uint8)\n",
    "    video.write(img) #Writes each generated random frame (img) into the video file.\n",
    " \n",
    "video.release() # Closes the video writer object, finalizing and saving the video file."
   ]
  },
  {
   "cell_type": "code",
   "execution_count": 6,
   "metadata": {},
   "outputs": [],
   "source": [
    "width = 1280\n",
    "hieght = 720\n",
    "channel = 3\n",
    " \n",
    "fps = 10\n",
    "sec = 5\n",
    " \n",
    "fourcc = cv2.VideoWriter_fourcc(*'MP42')\n",
    " \n",
    "video = cv2.VideoWriter('image_to_video.mp4', fourcc, float(fps), (width, hieght))\n",
    " \n",
    "directry = r'C:\\Users\\Pramod Rai\\Desktop\\cv\\images'\n",
    " \n",
    "img_name_list = os.listdir(directry)\n",
    " \n",
    "for frame_count in range(fps*sec):\n",
    "    \n",
    "    img_name = np.random.choice(img_name_list)\n",
    "    img_path = os.path.join(directry, img_name)\n",
    "    img = cv2.imread(img_path)\n",
    "    img_resize = cv2.resize(img, (width, hieght))\n",
    "     \n",
    "    video.write(img_resize)\n",
    "     \n",
    "video.release()"
   ]
  },
  {
   "cell_type": "code",
   "execution_count": null,
   "metadata": {},
   "outputs": [],
   "source": []
  }
 ],
 "metadata": {
  "kernelspec": {
   "display_name": "Python 3",
   "language": "python",
   "name": "python3"
  },
  "language_info": {
   "codemirror_mode": {
    "name": "ipython",
    "version": 3
   },
   "file_extension": ".py",
   "mimetype": "text/x-python",
   "name": "python",
   "nbconvert_exporter": "python",
   "pygments_lexer": "ipython3",
   "version": "3.12.0"
  }
 },
 "nbformat": 4,
 "nbformat_minor": 2
}
