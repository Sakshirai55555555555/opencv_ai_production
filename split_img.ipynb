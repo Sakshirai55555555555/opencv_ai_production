{
 "cells": [
  {
   "cell_type": "code",
   "execution_count": 1,
   "metadata": {},
   "outputs": [],
   "source": [
    "import cv2\n",
    "import numpy as np"
   ]
  },
  {
   "cell_type": "markdown",
   "metadata": {},
   "source": [
    "Split image using NumPy indexing"
   ]
  },
  {
   "cell_type": "code",
   "execution_count": 3,
   "metadata": {},
   "outputs": [],
   "source": [
    "img_path = r\"images/pexels-bess-hamiti-35537.jpg\"\n",
    " \n",
    "img = cv2.imread(img_path)\n",
    "img = cv2.resize(img, (1280, 720))"
   ]
  },
  {
   "cell_type": "code",
   "execution_count": 4,
   "metadata": {},
   "outputs": [
    {
     "data": {
      "text/plain": [
       "array([[ 7,  7,  6, ..., 14, 14, 14],\n",
       "       [ 7,  7,  6, ..., 14, 14, 14],\n",
       "       [ 6,  6,  7, ..., 14, 14, 14],\n",
       "       ...,\n",
       "       [ 8,  8,  8, ..., 22, 22, 22],\n",
       "       [ 8,  8,  8, ..., 22, 22, 22],\n",
       "       [ 8,  8,  8, ..., 22, 22, 22]], dtype=uint8)"
      ]
     },
     "execution_count": 4,
     "metadata": {},
     "output_type": "execute_result"
    }
   ],
   "source": [
    "img[:,:,0] # Blue image channel\n",
    " \n",
    "img[:,:,1] # Green Image channel\n",
    " \n",
    "img[:,:,2] # Red Image Channel"
   ]
  },
  {
   "cell_type": "code",
   "execution_count": 5,
   "metadata": {},
   "outputs": [],
   "source": [
    "b, g, r = cv2.split(img)"
   ]
  },
  {
   "cell_type": "markdown",
   "metadata": {},
   "source": [
    "Time Calculation to split Image"
   ]
  },
  {
   "cell_type": "code",
   "execution_count": 6,
   "metadata": {},
   "outputs": [
    {
     "name": "stdout",
     "output_type": "stream",
     "text": [
      "Total time taken to split 100 images:  0.4711289405822754\n"
     ]
    }
   ],
   "source": [
    "import time\n",
    " \n",
    "start_time = time.time()\n",
    " \n",
    "for i in range(100):\n",
    "    r, g, r = cv2.split(img)\n",
    "     \n",
    "end_time = time.time()\n",
    " \n",
    "print(\"Total time taken to split 100 images: \", end_time - start_time)"
   ]
  },
  {
   "cell_type": "code",
   "execution_count": 7,
   "metadata": {},
   "outputs": [
    {
     "data": {
      "text/plain": [
       "1701522761.3584712"
      ]
     },
     "execution_count": 7,
     "metadata": {},
     "output_type": "execute_result"
    }
   ],
   "source": [
    "time.time()"
   ]
  },
  {
   "cell_type": "code",
   "execution_count": 8,
   "metadata": {},
   "outputs": [
    {
     "data": {
      "text/plain": [
       "1701522771.51953"
      ]
     },
     "execution_count": 8,
     "metadata": {},
     "output_type": "execute_result"
    }
   ],
   "source": [
    "time.time()"
   ]
  },
  {
   "cell_type": "code",
   "execution_count": 9,
   "metadata": {},
   "outputs": [
    {
     "name": "stdout",
     "output_type": "stream",
     "text": [
      "Total time taken to split 100 images:  0.0005335807800292969\n"
     ]
    }
   ],
   "source": [
    "import time\n",
    " \n",
    "start_time = time.time()\n",
    " \n",
    "for i in range(100):\n",
    "    b = img[:, :, 0]\n",
    "    g = img[:, :, 1]\n",
    "    r = img[:, :, 2]\n",
    "     \n",
    "end_time = time.time()\n",
    " \n",
    "print(\"Total time taken to split 100 images: \", end_time - start_time)"
   ]
  },
  {
   "cell_type": "code",
   "execution_count": 11,
   "metadata": {},
   "outputs": [
    {
     "data": {
      "text/plain": [
       "-1"
      ]
     },
     "execution_count": 11,
     "metadata": {},
     "output_type": "execute_result"
    }
   ],
   "source": [
    "img = cv2.imread(img_path)\n",
    "img = cv2.resize(img, (400, 400))\n",
    " \n",
    "cv2.imshow(\"Model Blue Image\", img[:,:,0])\n",
    "cv2.imshow(\"Model Green Image\", img[:,:,1])\n",
    "cv2.imshow(\"Model Red Image\", img[:,:,2])\n",
    " \n",
    "cv2.waitKey(0)"
   ]
  },
  {
   "cell_type": "code",
   "execution_count": 12,
   "metadata": {},
   "outputs": [],
   "source": [
    "img = cv2.imread(img_path)\n",
    "img = cv2.resize(img, (400, 400))\n",
    " \n",
    "b, g, r = cv2.split(img)\n",
    " \n",
    "cv2.imshow(\"Model Blue Image\", b)\n",
    "cv2.imshow(\"Model Green Image\", g)\n",
    "cv2.imshow(\"Model Red Image\", r)\n",
    " \n",
    "cv2.waitKey(0)\n"
   ]
  },
  {
   "cell_type": "markdown",
   "metadata": {},
   "source": [
    "Show single channel"
   ]
  },
  {
   "cell_type": "code",
   "execution_count": 2,
   "metadata": {},
   "outputs": [],
   "source": [
    "img_path = r\"images/pexels-bess-hamiti-35537.jpg\"\n",
    " \n",
    "img = cv2.imread(img_path)\n",
    "img = cv2.resize(img, (400, 400))\n",
    " \n",
    "b, g, r = cv2.split(img)\n",
    " \n",
    " \n",
    "img_merge = cv2.merge([b,g,r])\n",
    " \n",
    "cv2.imshow(\"Model Blue Image\", b)\n",
    "cv2.imshow(\"Model Green Image\", g)\n",
    "cv2.imshow(\"Model Red Image\", r)\n",
    " \n",
    "cv2.imshow(\"Merge Model Image\", img_merge)\n",
    " \n",
    "cv2.waitKey(0)\n",
    "cv2.destroyAllWindows()"
   ]
  },
  {
   "cell_type": "markdown",
   "metadata": {},
   "source": [
    "blue color"
   ]
  },
  {
   "cell_type": "code",
   "execution_count": 3,
   "metadata": {},
   "outputs": [],
   "source": [
    "b, g, r = cv2.split(img)\n",
    "zeros_ch = np.zeros(img.shape[0:2], dtype=\"uint8\")\n",
    "\n",
    "blue_img = cv2.merge([b, zeros_ch, zeros_ch])\n",
    "cv2.imshow(\"Blue Image\", blue_img)\n",
    "cv2.waitKey(0)\n",
    "cv2.destroyAllWindows()"
   ]
  },
  {
   "cell_type": "markdown",
   "metadata": {},
   "source": [
    "gree color"
   ]
  },
  {
   "cell_type": "code",
   "execution_count": 4,
   "metadata": {},
   "outputs": [],
   "source": [
    "green_img = cv2.merge([zeros_ch, g, zeros_ch])\n",
    "cv2.imshow(\"Green Image\", green_img)\n",
    "cv2.waitKey(0)\n",
    "cv2.destroyAllWindows()"
   ]
  },
  {
   "cell_type": "markdown",
   "metadata": {},
   "source": [
    "red color"
   ]
  },
  {
   "cell_type": "code",
   "execution_count": 5,
   "metadata": {},
   "outputs": [],
   "source": [
    "red_img = cv2.merge([zeros_ch, zeros_ch, r])\n",
    "cv2.imshow(\"Red Image\", red_img)\n",
    "cv2.waitKey(0)\n",
    "cv2.destroyAllWindows()"
   ]
  },
  {
   "cell_type": "code",
   "execution_count": 6,
   "metadata": {},
   "outputs": [],
   "source": [
    "img = cv2.resize(img, (400,300))"
   ]
  },
  {
   "cell_type": "code",
   "execution_count": 7,
   "metadata": {},
   "outputs": [],
   "source": [
    "red_array = np.zeros(img.shape, dtype=\"uint8\")\n",
    "red_array[:,:,2] = img[:,:,2]\n",
    "\n",
    "\n",
    "green_array = np.zeros(img.shape, dtype=\"uint8\")\n",
    "green_array[:,:,1] = img[:,:,1]\n",
    "\n",
    "\n",
    "blue_array = np.zeros(img.shape, dtype=\"uint8\")\n",
    "blue_array[:,:,0] = img[:,:,0]"
   ]
  },
  {
   "cell_type": "code",
   "execution_count": 8,
   "metadata": {},
   "outputs": [],
   "source": [
    "ht1 = np.hstack((red_array, green_array))\n",
    "ht2 = np.hstack((blue_array, img))"
   ]
  },
  {
   "cell_type": "code",
   "execution_count": 9,
   "metadata": {},
   "outputs": [],
   "source": [
    "img_4 = np.vstack((ht1, ht2))"
   ]
  },
  {
   "cell_type": "code",
   "execution_count": 10,
   "metadata": {},
   "outputs": [],
   "source": [
    "cv2.imshow(\"4 images\", img_4)\n",
    "cv2.waitKey(0)\n",
    "cv2.destroyAllWindows()"
   ]
  },
  {
   "cell_type": "code",
   "execution_count": null,
   "metadata": {},
   "outputs": [],
   "source": []
  }
 ],
 "metadata": {
  "kernelspec": {
   "display_name": "Python 3",
   "language": "python",
   "name": "python3"
  },
  "language_info": {
   "codemirror_mode": {
    "name": "ipython",
    "version": 3
   },
   "file_extension": ".py",
   "mimetype": "text/x-python",
   "name": "python",
   "nbconvert_exporter": "python",
   "pygments_lexer": "ipython3",
   "version": "3.12.0"
  }
 },
 "nbformat": 4,
 "nbformat_minor": 2
}
