{
 "cells": [
  {
   "cell_type": "code",
   "execution_count": 2,
   "metadata": {},
   "outputs": [],
   "source": [
    "import cv2\n",
    "import numpy as np"
   ]
  },
  {
   "cell_type": "markdown",
   "metadata": {},
   "source": [
    "Draw Ellipse on Image"
   ]
  },
  {
   "cell_type": "code",
   "execution_count": 3,
   "metadata": {},
   "outputs": [],
   "source": [
    "img_path=r'C:\\Users\\Pramod Rai\\Desktop\\opencv_ai_production\\opencv_ai_production\\images\\pexels-bess-hamiti-35537.jpg'\n",
    "image = cv2.imread(img_path)\n",
    "img_resize = cv2.resize(image, (1280,720))"
   ]
  },
  {
   "cell_type": "code",
   "execution_count": 6,
   "metadata": {},
   "outputs": [
    {
     "data": {
      "text/plain": [
       "array([[[19,  7,  7],\n",
       "        [19,  7,  7],\n",
       "        [18,  6,  6],\n",
       "        ...,\n",
       "        [23, 17, 14],\n",
       "        [24, 17, 14],\n",
       "        [24, 17, 14]],\n",
       "\n",
       "       [[19,  7,  7],\n",
       "        [19,  7,  7],\n",
       "        [18,  6,  6],\n",
       "        ...,\n",
       "        [23, 17, 14],\n",
       "        [24, 17, 14],\n",
       "        [24, 17, 14]],\n",
       "\n",
       "       [[18,  6,  6],\n",
       "        [18,  6,  6],\n",
       "        [19,  7,  7],\n",
       "        ...,\n",
       "        [23, 17, 14],\n",
       "        [24, 17, 14],\n",
       "        [24, 17, 14]],\n",
       "\n",
       "       ...,\n",
       "\n",
       "       [[27, 18,  8],\n",
       "        [27, 18,  8],\n",
       "        [27, 18,  8],\n",
       "        ...,\n",
       "        [33, 27, 22],\n",
       "        [33, 27, 22],\n",
       "        [33, 27, 22]],\n",
       "\n",
       "       [[27, 18,  8],\n",
       "        [27, 18,  8],\n",
       "        [27, 18,  8],\n",
       "        ...,\n",
       "        [33, 27, 22],\n",
       "        [33, 27, 22],\n",
       "        [33, 27, 22]],\n",
       "\n",
       "       [[27, 18,  8],\n",
       "        [27, 18,  8],\n",
       "        [27, 18,  8],\n",
       "        ...,\n",
       "        [33, 27, 22],\n",
       "        [33, 27, 22],\n",
       "        [33, 27, 22]]], dtype=uint8)"
      ]
     },
     "execution_count": 6,
     "metadata": {},
     "output_type": "execute_result"
    }
   ],
   "source": [
    "center = (800, 230)\n",
    "axes = (100, 200)\n",
    "angle = 30\n",
    "startAngle = 0\n",
    "endAngle = 360\n",
    "color = (12,200,43)\n",
    "thickness = 4\n",
    "\n",
    "cv2.ellipse(img_resize, center, axes, angle, startAngle, endAngle, color, thickness)"
   ]
  },
  {
   "cell_type": "code",
   "execution_count": 7,
   "metadata": {},
   "outputs": [],
   "source": [
    "cv2.imshow(\"Model Image\", img_resize)\n",
    "cv2.waitKey(0)\n",
    "cv2.destroyAllWindows()"
   ]
  },
  {
   "cell_type": "markdown",
   "metadata": {},
   "source": [
    "Fill Ellipse"
   ]
  },
  {
   "cell_type": "code",
   "execution_count": 8,
   "metadata": {},
   "outputs": [
    {
     "data": {
      "text/plain": [
       "array([[[19,  7,  7],\n",
       "        [19,  7,  7],\n",
       "        [18,  6,  6],\n",
       "        ...,\n",
       "        [23, 17, 14],\n",
       "        [24, 17, 14],\n",
       "        [24, 17, 14]],\n",
       "\n",
       "       [[19,  7,  7],\n",
       "        [19,  7,  7],\n",
       "        [18,  6,  6],\n",
       "        ...,\n",
       "        [23, 17, 14],\n",
       "        [24, 17, 14],\n",
       "        [24, 17, 14]],\n",
       "\n",
       "       [[18,  6,  6],\n",
       "        [18,  6,  6],\n",
       "        [19,  7,  7],\n",
       "        ...,\n",
       "        [23, 17, 14],\n",
       "        [24, 17, 14],\n",
       "        [24, 17, 14]],\n",
       "\n",
       "       ...,\n",
       "\n",
       "       [[27, 18,  8],\n",
       "        [27, 18,  8],\n",
       "        [27, 18,  8],\n",
       "        ...,\n",
       "        [33, 27, 22],\n",
       "        [33, 27, 22],\n",
       "        [33, 27, 22]],\n",
       "\n",
       "       [[27, 18,  8],\n",
       "        [27, 18,  8],\n",
       "        [27, 18,  8],\n",
       "        ...,\n",
       "        [33, 27, 22],\n",
       "        [33, 27, 22],\n",
       "        [33, 27, 22]],\n",
       "\n",
       "       [[27, 18,  8],\n",
       "        [27, 18,  8],\n",
       "        [27, 18,  8],\n",
       "        ...,\n",
       "        [33, 27, 22],\n",
       "        [33, 27, 22],\n",
       "        [33, 27, 22]]], dtype=uint8)"
      ]
     },
     "execution_count": 8,
     "metadata": {},
     "output_type": "execute_result"
    }
   ],
   "source": [
    "center = (800, 230)\n",
    "axes = (100, 200)\n",
    "angle = 30\n",
    "startAngle = 0\n",
    "endAngle = 360\n",
    "color = (12,200,43)\n",
    "thickness = -1\n",
    "\n",
    "cv2.ellipse(img_resize, center, axes, angle, startAngle, endAngle, color, thickness)"
   ]
  },
  {
   "cell_type": "code",
   "execution_count": 9,
   "metadata": {},
   "outputs": [],
   "source": [
    "cv2.imshow(\"Model Image\", img_resize)\n",
    "cv2.waitKey(0)\n",
    "cv2.destroyAllWindows()"
   ]
  },
  {
   "cell_type": "markdown",
   "metadata": {},
   "source": [
    "Incomplete Ellipse Arc"
   ]
  },
  {
   "cell_type": "code",
   "execution_count": 10,
   "metadata": {},
   "outputs": [],
   "source": [
    "img_path=r'C:\\Users\\Pramod Rai\\Desktop\\opencv_ai_production\\opencv_ai_production\\images\\pexels-bess-hamiti-35537.jpg'\n",
    "image = cv2.imread(img_path)\n",
    "img_resize = cv2.resize(image, (1280,720))"
   ]
  },
  {
   "cell_type": "code",
   "execution_count": 11,
   "metadata": {},
   "outputs": [
    {
     "data": {
      "text/plain": [
       "array([[[19,  7,  7],\n",
       "        [19,  7,  7],\n",
       "        [18,  6,  6],\n",
       "        ...,\n",
       "        [23, 17, 14],\n",
       "        [24, 17, 14],\n",
       "        [24, 17, 14]],\n",
       "\n",
       "       [[19,  7,  7],\n",
       "        [19,  7,  7],\n",
       "        [18,  6,  6],\n",
       "        ...,\n",
       "        [23, 17, 14],\n",
       "        [24, 17, 14],\n",
       "        [24, 17, 14]],\n",
       "\n",
       "       [[18,  6,  6],\n",
       "        [18,  6,  6],\n",
       "        [19,  7,  7],\n",
       "        ...,\n",
       "        [23, 17, 14],\n",
       "        [24, 17, 14],\n",
       "        [24, 17, 14]],\n",
       "\n",
       "       ...,\n",
       "\n",
       "       [[27, 18,  8],\n",
       "        [27, 18,  8],\n",
       "        [27, 18,  8],\n",
       "        ...,\n",
       "        [33, 27, 22],\n",
       "        [33, 27, 22],\n",
       "        [33, 27, 22]],\n",
       "\n",
       "       [[27, 18,  8],\n",
       "        [27, 18,  8],\n",
       "        [27, 18,  8],\n",
       "        ...,\n",
       "        [33, 27, 22],\n",
       "        [33, 27, 22],\n",
       "        [33, 27, 22]],\n",
       "\n",
       "       [[27, 18,  8],\n",
       "        [27, 18,  8],\n",
       "        [27, 18,  8],\n",
       "        ...,\n",
       "        [33, 27, 22],\n",
       "        [33, 27, 22],\n",
       "        [33, 27, 22]]], dtype=uint8)"
      ]
     },
     "execution_count": 11,
     "metadata": {},
     "output_type": "execute_result"
    }
   ],
   "source": [
    "center = (500, 230)\n",
    "axes = (100, 200)\n",
    "angle = 30\n",
    "startAngle = 100\n",
    "endAngle = 360\n",
    "color = (12,200,43)\n",
    "thickness = -1\n",
    " \n",
    "cv2.ellipse(img_resize, center, axes, angle, startAngle, endAngle, color, thickness)"
   ]
  },
  {
   "cell_type": "code",
   "execution_count": 12,
   "metadata": {},
   "outputs": [],
   "source": [
    "\n",
    "cv2.imshow(\"Model Image\", img_resize)\n",
    "cv2.waitKey(0)\n",
    "cv2.destroyAllWindows()"
   ]
  },
  {
   "cell_type": "markdown",
   "metadata": {},
   "source": [
    "Incomplete Empty Ellipse Arc"
   ]
  },
  {
   "cell_type": "code",
   "execution_count": 13,
   "metadata": {},
   "outputs": [],
   "source": [
    "img_path=r'C:\\Users\\Pramod Rai\\Desktop\\opencv_ai_production\\opencv_ai_production\\images\\pexels-bess-hamiti-35537.jpg'\n",
    "image = cv2.imread(img_path)\n",
    "img_resize = cv2.resize(image, (1280,720))"
   ]
  },
  {
   "cell_type": "code",
   "execution_count": 14,
   "metadata": {},
   "outputs": [
    {
     "data": {
      "text/plain": [
       "array([[[19,  7,  7],\n",
       "        [19,  7,  7],\n",
       "        [18,  6,  6],\n",
       "        ...,\n",
       "        [23, 17, 14],\n",
       "        [24, 17, 14],\n",
       "        [24, 17, 14]],\n",
       "\n",
       "       [[19,  7,  7],\n",
       "        [19,  7,  7],\n",
       "        [18,  6,  6],\n",
       "        ...,\n",
       "        [23, 17, 14],\n",
       "        [24, 17, 14],\n",
       "        [24, 17, 14]],\n",
       "\n",
       "       [[18,  6,  6],\n",
       "        [18,  6,  6],\n",
       "        [19,  7,  7],\n",
       "        ...,\n",
       "        [23, 17, 14],\n",
       "        [24, 17, 14],\n",
       "        [24, 17, 14]],\n",
       "\n",
       "       ...,\n",
       "\n",
       "       [[27, 18,  8],\n",
       "        [27, 18,  8],\n",
       "        [27, 18,  8],\n",
       "        ...,\n",
       "        [33, 27, 22],\n",
       "        [33, 27, 22],\n",
       "        [33, 27, 22]],\n",
       "\n",
       "       [[27, 18,  8],\n",
       "        [27, 18,  8],\n",
       "        [27, 18,  8],\n",
       "        ...,\n",
       "        [33, 27, 22],\n",
       "        [33, 27, 22],\n",
       "        [33, 27, 22]],\n",
       "\n",
       "       [[27, 18,  8],\n",
       "        [27, 18,  8],\n",
       "        [27, 18,  8],\n",
       "        ...,\n",
       "        [33, 27, 22],\n",
       "        [33, 27, 22],\n",
       "        [33, 27, 22]]], dtype=uint8)"
      ]
     },
     "execution_count": 14,
     "metadata": {},
     "output_type": "execute_result"
    }
   ],
   "source": [
    "center = (500, 230)\n",
    "axes = (100, 200)\n",
    "angle = 30\n",
    "startAngle = 100\n",
    "endAngle = 360\n",
    "color = (12,200,43)\n",
    "thickness = 33\n",
    "cv2.ellipse(img_resize, center, axes, angle, startAngle, endAngle, color, thickness)"
   ]
  },
  {
   "cell_type": "code",
   "execution_count": 15,
   "metadata": {},
   "outputs": [],
   "source": [
    " \n",
    "cv2.imshow(\"Model Image\", img_resize)\n",
    "cv2.waitKey(0)\n",
    "cv2.destroyAllWindows()"
   ]
  },
  {
   "cell_type": "markdown",
   "metadata": {},
   "source": [
    "Ellipse And Text"
   ]
  },
  {
   "cell_type": "code",
   "execution_count": 16,
   "metadata": {},
   "outputs": [],
   "source": [
    "img_path=r'C:\\Users\\Pramod Rai\\Desktop\\opencv_ai_production\\opencv_ai_production\\images\\pexels-bess-hamiti-35537.jpg'\n",
    "image = cv2.imread(img_path)\n",
    "img_resize = cv2.resize(image, (1280,720))"
   ]
  },
  {
   "cell_type": "code",
   "execution_count": 17,
   "metadata": {},
   "outputs": [
    {
     "data": {
      "text/plain": [
       "array([[[19,  7,  7],\n",
       "        [19,  7,  7],\n",
       "        [18,  6,  6],\n",
       "        ...,\n",
       "        [23, 17, 14],\n",
       "        [24, 17, 14],\n",
       "        [24, 17, 14]],\n",
       "\n",
       "       [[19,  7,  7],\n",
       "        [19,  7,  7],\n",
       "        [18,  6,  6],\n",
       "        ...,\n",
       "        [23, 17, 14],\n",
       "        [24, 17, 14],\n",
       "        [24, 17, 14]],\n",
       "\n",
       "       [[18,  6,  6],\n",
       "        [18,  6,  6],\n",
       "        [19,  7,  7],\n",
       "        ...,\n",
       "        [23, 17, 14],\n",
       "        [24, 17, 14],\n",
       "        [24, 17, 14]],\n",
       "\n",
       "       ...,\n",
       "\n",
       "       [[27, 18,  8],\n",
       "        [27, 18,  8],\n",
       "        [27, 18,  8],\n",
       "        ...,\n",
       "        [33, 27, 22],\n",
       "        [33, 27, 22],\n",
       "        [33, 27, 22]],\n",
       "\n",
       "       [[27, 18,  8],\n",
       "        [27, 18,  8],\n",
       "        [27, 18,  8],\n",
       "        ...,\n",
       "        [33, 27, 22],\n",
       "        [33, 27, 22],\n",
       "        [33, 27, 22]],\n",
       "\n",
       "       [[27, 18,  8],\n",
       "        [27, 18,  8],\n",
       "        [27, 18,  8],\n",
       "        ...,\n",
       "        [33, 27, 22],\n",
       "        [33, 27, 22],\n",
       "        [33, 27, 22]]], dtype=uint8)"
      ]
     },
     "execution_count": 17,
     "metadata": {},
     "output_type": "execute_result"
    }
   ],
   "source": [
    "center = (500, 230)\n",
    "axes = (100,200)\n",
    "angle = 30\n",
    "startAngle = 0\n",
    "endAngle = 340\n",
    "color = (56,208,23)\n",
    "thickness = 5\n",
    "\n",
    "cv2.ellipse(img_resize, center, axes, angle, startAngle, endAngle, color, thickness)"
   ]
  },
  {
   "cell_type": "code",
   "execution_count": 18,
   "metadata": {},
   "outputs": [
    {
     "data": {
      "text/plain": [
       "array([[[19,  7,  7],\n",
       "        [19,  7,  7],\n",
       "        [18,  6,  6],\n",
       "        ...,\n",
       "        [23, 17, 14],\n",
       "        [24, 17, 14],\n",
       "        [24, 17, 14]],\n",
       "\n",
       "       [[19,  7,  7],\n",
       "        [19,  7,  7],\n",
       "        [18,  6,  6],\n",
       "        ...,\n",
       "        [23, 17, 14],\n",
       "        [24, 17, 14],\n",
       "        [24, 17, 14]],\n",
       "\n",
       "       [[18,  6,  6],\n",
       "        [18,  6,  6],\n",
       "        [19,  7,  7],\n",
       "        ...,\n",
       "        [23, 17, 14],\n",
       "        [24, 17, 14],\n",
       "        [24, 17, 14]],\n",
       "\n",
       "       ...,\n",
       "\n",
       "       [[27, 18,  8],\n",
       "        [27, 18,  8],\n",
       "        [27, 18,  8],\n",
       "        ...,\n",
       "        [33, 27, 22],\n",
       "        [33, 27, 22],\n",
       "        [33, 27, 22]],\n",
       "\n",
       "       [[27, 18,  8],\n",
       "        [27, 18,  8],\n",
       "        [27, 18,  8],\n",
       "        ...,\n",
       "        [33, 27, 22],\n",
       "        [33, 27, 22],\n",
       "        [33, 27, 22]],\n",
       "\n",
       "       [[27, 18,  8],\n",
       "        [27, 18,  8],\n",
       "        [27, 18,  8],\n",
       "        ...,\n",
       "        [33, 27, 22],\n",
       "        [33, 27, 22],\n",
       "        [33, 27, 22]]], dtype=uint8)"
      ]
     },
     "execution_count": 18,
     "metadata": {},
     "output_type": "execute_result"
    }
   ],
   "source": [
    "cv2.putText(img_resize, \"Model Smile\", (600, 280), cv2.FONT_HERSHEY_SCRIPT_SIMPLEX, 2, (34,200,200), 3)"
   ]
  },
  {
   "cell_type": "code",
   "execution_count": 19,
   "metadata": {},
   "outputs": [],
   "source": [
    "cv2.imshow(\"Model Image\", img_resize)\n",
    "cv2.waitKey(0)\n",
    "cv2.destroyAllWindows()"
   ]
  },
  {
   "cell_type": "code",
   "execution_count": null,
   "metadata": {},
   "outputs": [],
   "source": []
  }
 ],
 "metadata": {
  "kernelspec": {
   "display_name": "Python 3",
   "language": "python",
   "name": "python3"
  },
  "language_info": {
   "codemirror_mode": {
    "name": "ipython",
    "version": 3
   },
   "file_extension": ".py",
   "mimetype": "text/x-python",
   "name": "python",
   "nbconvert_exporter": "python",
   "pygments_lexer": "ipython3",
   "version": "3.12.0"
  }
 },
 "nbformat": 4,
 "nbformat_minor": 2
}
